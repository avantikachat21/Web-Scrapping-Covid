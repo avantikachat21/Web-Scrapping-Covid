{
  "nbformat": 4,
  "nbformat_minor": 0,
  "metadata": {
    "colab": {
      "name": "Copy of Web Scrapping Corona Virus data into Ms Excel.ipynb",
      "provenance": [],
      "collapsed_sections": [],
      "toc_visible": true,
      "authorship_tag": "ABX9TyOHkZPlVwRXp6FCds5VQcZk",
      "include_colab_link": true
    },
    "kernelspec": {
      "name": "python3",
      "display_name": "Python 3"
    },
    "language_info": {
      "name": "python"
    }
  },
  "cells": [
    {
      "cell_type": "markdown",
      "metadata": {
        "id": "view-in-github",
        "colab_type": "text"
      },
      "source": [
        "<a href=\"https://colab.research.google.com/github/avantikachat21/Web-Scrapping-Covid/blob/master/Web_Scrapping_Corona_Virus_data_into_Ms_Excel.ipynb\" target=\"_parent\"><img src=\"https://colab.research.google.com/assets/colab-badge.svg\" alt=\"Open In Colab\"/></a>"
      ]
    },
    {
      "cell_type": "markdown",
      "metadata": {
        "id": "ZlCJIRZy3jd4"
      },
      "source": [
        "# Web Scrapping Corona Virus data into Ms Excel"
      ]
    },
    {
      "cell_type": "markdown",
      "metadata": {
        "id": "h-4BdhNK4SLg"
      },
      "source": [
        "## Requests"
      ]
    },
    {
      "cell_type": "markdown",
      "metadata": {
        "id": "wzB5dX5q3r55"
      },
      "source": [
        "Import Library"
      ]
    },
    {
      "cell_type": "code",
      "metadata": {
        "id": "bjDxbaO43wLQ"
      },
      "source": [
        "import requests"
      ],
      "execution_count": 1,
      "outputs": []
    },
    {
      "cell_type": "markdown",
      "metadata": {
        "id": "oA8xGVAk3_C-"
      },
      "source": [
        "Make request from webpage"
      ]
    },
    {
      "cell_type": "code",
      "metadata": {
        "id": "4VZAjhTc4EAB"
      },
      "source": [
        "url =' https://www.worldometers.info/coronavirus/country/india/'\n",
        "result = requests.get(url)\n",
        "#result.text"
      ],
      "execution_count": 2,
      "outputs": []
    },
    {
      "cell_type": "markdown",
      "metadata": {
        "id": "Zcmg_9414YgC"
      },
      "source": [
        "## Beautiful Soup"
      ]
    },
    {
      "cell_type": "code",
      "metadata": {
        "id": "5YV2Yp3l4fDP"
      },
      "source": [
        "import bs4"
      ],
      "execution_count": 3,
      "outputs": []
    },
    {
      "cell_type": "markdown",
      "metadata": {
        "id": "weLNWJxq4pHO"
      },
      "source": [
        "## Creating soup object"
      ]
    },
    {
      "cell_type": "markdown",
      "metadata": {
        "id": "sKin40pv4vut"
      },
      "source": [
        "## Create soup object"
      ]
    },
    {
      "cell_type": "code",
      "metadata": {
        "id": "YJw5Lwkd4lVm"
      },
      "source": [
        "soup = bs4.BeautifulSoup(result.text, 'lxml')\n",
        "#soup"
      ],
      "execution_count": 4,
      "outputs": []
    },
    {
      "cell_type": "markdown",
      "metadata": {
        "id": "MGVmqNh04-3Z"
      },
      "source": [
        "# Extracting the Data"
      ]
    },
    {
      "cell_type": "markdown",
      "metadata": {
        "id": "palNCLNY5EoM"
      },
      "source": [
        "## find the div"
      ]
    },
    {
      "cell_type": "code",
      "metadata": {
        "id": "K6-hi6dz40_5"
      },
      "source": [
        "#find-all method\n",
        "cases = soup.find_all('div', class_ = 'maincounter-number')"
      ],
      "execution_count": 5,
      "outputs": []
    },
    {
      "cell_type": "code",
      "metadata": {
        "id": "SKMBXs_X41sO",
        "colab": {
          "base_uri": "https://localhost:8080/"
        },
        "outputId": "8a35d180-e4cb-407c-c34e-6fcbb9e1a9db"
      },
      "source": [
        "cases"
      ],
      "execution_count": 6,
      "outputs": [
        {
          "output_type": "execute_result",
          "data": {
            "text/plain": [
              "[<div class=\"maincounter-number\">\n",
              " <span style=\"color:#aaa\">26,530,132 </span>\n",
              " </div>, <div class=\"maincounter-number\">\n",
              " <span>299,296</span>\n",
              " </div>, <div class=\"maincounter-number\" style=\"color:#8ACA2B \">\n",
              " <span>23,425,467</span>\n",
              " </div>]"
            ]
          },
          "metadata": {
            "tags": []
          },
          "execution_count": 6
        }
      ]
    },
    {
      "cell_type": "markdown",
      "metadata": {
        "id": "AAecVqyt5TZD"
      },
      "source": [
        "## Storing the data"
      ]
    },
    {
      "cell_type": "markdown",
      "metadata": {
        "id": "XEi_WbHi5hcN"
      },
      "source": [
        "### python list"
      ]
    },
    {
      "cell_type": "code",
      "metadata": {
        "id": "BkVY0LwD41xP"
      },
      "source": [
        "data = []"
      ],
      "execution_count": 7,
      "outputs": []
    },
    {
      "cell_type": "markdown",
      "metadata": {
        "id": "PzHARFah5dtR"
      },
      "source": [
        "### find the span and get data from it"
      ]
    },
    {
      "cell_type": "code",
      "metadata": {
        "id": "afmdxGKk410A"
      },
      "source": [
        "for i in cases:\n",
        "    span = i .find('span')\n",
        "    data.append(span.string)"
      ],
      "execution_count": 8,
      "outputs": []
    },
    {
      "cell_type": "code",
      "metadata": {
        "id": "uBlhJj22412G",
        "colab": {
          "base_uri": "https://localhost:8080/"
        },
        "outputId": "19c8f3ea-0fb5-42e9-854d-0120623d6dee"
      },
      "source": [
        "data"
      ],
      "execution_count": 9,
      "outputs": [
        {
          "output_type": "execute_result",
          "data": {
            "text/plain": [
              "['26,530,132 ', '299,296', '23,425,467']"
            ]
          },
          "metadata": {
            "tags": []
          },
          "execution_count": 9
        }
      ]
    },
    {
      "cell_type": "markdown",
      "metadata": {
        "id": "Zb9h5Jbd5zPC"
      },
      "source": [
        "## Exporting the Data"
      ]
    },
    {
      "cell_type": "code",
      "metadata": {
        "id": "_A4EEH8P417f"
      },
      "source": [
        "import pandas as pd"
      ],
      "execution_count": 10,
      "outputs": []
    },
    {
      "cell_type": "markdown",
      "metadata": {
        "id": "AwzOJ2Jc59BI"
      },
      "source": [
        "\n",
        "### create a dataframe"
      ]
    },
    {
      "cell_type": "code",
      "metadata": {
        "id": "XKtzfwWE4196"
      },
      "source": [
        "df = pd.DataFrame({'CoronaData': data})"
      ],
      "execution_count": 11,
      "outputs": []
    },
    {
      "cell_type": "markdown",
      "metadata": {
        "id": "ux1eRq_96Ojb"
      },
      "source": [
        "### naming the columns"
      ]
    },
    {
      "cell_type": "code",
      "metadata": {
        "id": "ZUjD6Jdg42Ax"
      },
      "source": [
        "df.index = ['TotalCases', 'Deaths', 'Recovered']"
      ],
      "execution_count": 12,
      "outputs": []
    },
    {
      "cell_type": "code",
      "metadata": {
        "id": "HnYVuHoC42EE",
        "colab": {
          "base_uri": "https://localhost:8080/",
          "height": 141
        },
        "outputId": "f16e1f6f-d508-4725-d442-7e09b6bac167"
      },
      "source": [
        "df"
      ],
      "execution_count": 13,
      "outputs": [
        {
          "output_type": "execute_result",
          "data": {
            "text/html": [
              "<div>\n",
              "<style scoped>\n",
              "    .dataframe tbody tr th:only-of-type {\n",
              "        vertical-align: middle;\n",
              "    }\n",
              "\n",
              "    .dataframe tbody tr th {\n",
              "        vertical-align: top;\n",
              "    }\n",
              "\n",
              "    .dataframe thead th {\n",
              "        text-align: right;\n",
              "    }\n",
              "</style>\n",
              "<table border=\"1\" class=\"dataframe\">\n",
              "  <thead>\n",
              "    <tr style=\"text-align: right;\">\n",
              "      <th></th>\n",
              "      <th>CoronaData</th>\n",
              "    </tr>\n",
              "  </thead>\n",
              "  <tbody>\n",
              "    <tr>\n",
              "      <th>TotalCases</th>\n",
              "      <td>26,530,132</td>\n",
              "    </tr>\n",
              "    <tr>\n",
              "      <th>Deaths</th>\n",
              "      <td>299,296</td>\n",
              "    </tr>\n",
              "    <tr>\n",
              "      <th>Recovered</th>\n",
              "      <td>23,425,467</td>\n",
              "    </tr>\n",
              "  </tbody>\n",
              "</table>\n",
              "</div>"
            ],
            "text/plain": [
              "             CoronaData\n",
              "TotalCases  26,530,132 \n",
              "Deaths          299,296\n",
              "Recovered    23,425,467"
            ]
          },
          "metadata": {
            "tags": []
          },
          "execution_count": 13
        }
      ]
    },
    {
      "cell_type": "markdown",
      "metadata": {
        "id": "VjYyq-UU6aKg"
      },
      "source": [
        "### naming the file"
      ]
    },
    {
      "cell_type": "code",
      "metadata": {
        "id": "bTag3QjW42OP"
      },
      "source": [
        "df.to_csv('Corona_Data.csv')"
      ],
      "execution_count": 15,
      "outputs": []
    }
  ]
}